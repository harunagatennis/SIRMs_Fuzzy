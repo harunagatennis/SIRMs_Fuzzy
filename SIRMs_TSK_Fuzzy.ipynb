{
 "cells": [
  {
   "cell_type": "code",
   "execution_count": 59,
   "id": "32c03a7d-66d8-41c6-bd94-473dda552bbe",
   "metadata": {},
   "outputs": [],
   "source": [
    "#全データに対応できる汎用的なモデルを作成する\n",
    "#SIRMsファジィ推論モデルを作成する\n",
    "import numpy as np\n",
    "import pandas as pd\n",
    "import random\n",
    "import math\n",
    "import sys\n",
    "import time"
   ]
  },
  {
   "cell_type": "code",
   "execution_count": 60,
   "id": "21d87af0-8b93-4e82-870a-1a1ae9bc53f2",
   "metadata": {},
   "outputs": [],
   "source": [
    "#各種データを読み込む\n",
    "original_data = pd.read_csv('winequality-white-test.csv')"
   ]
  },
  {
   "cell_type": "code",
   "execution_count": 61,
   "id": "1dd20278-1496-45fa-b996-40988b922320",
   "metadata": {},
   "outputs": [],
   "source": [
    "#次に各種データに対して正規化を行っていく\n",
    "#ただし、例外のカラムを設けておく\n",
    "#正規化をあらかじめ行いたいカラムについてはその例外にカラム名を付与しておく\n",
    "\n",
    "#まず例外カラム名の制定\n",
    "#各種データごとに確認・変更してほしい箇所\n",
    "##########################################################################################################################\n",
    "##########################################################################################################################\n",
    "exception_columns = []\n",
    "for clm in original_data.columns:\n",
    "    if clm not in exception_columns:\n",
    "        original_data[clm] = (original_data[clm] - original_data[clm].min()) / (original_data[clm].max() - original_data[clm].min())\n",
    "##########################################################################################################################\n",
    "##########################################################################################################################"
   ]
  },
  {
   "cell_type": "code",
   "execution_count": 62,
   "id": "cd480542-faf4-4aaa-bcd5-dc06ee27f635",
   "metadata": {},
   "outputs": [],
   "source": [
    "#ここで各種データをnumpy配列に変換しておく\n",
    "np_original_data = np.array(original_data)"
   ]
  },
  {
   "cell_type": "code",
   "execution_count": 63,
   "id": "e732d32e-9094-4c65-a25f-30c0b1a8725d",
   "metadata": {},
   "outputs": [],
   "source": [
    "#次に教師データとテストデータに分割する\n",
    "#ここでは教師データ:テストデータを5:5とする\n",
    "\n",
    "#教師データ、テストデータの割合の設定\n",
    "#各種データごとに確認・変更してほしい箇所\n",
    "##########################################################################################################################\n",
    "##########################################################################################################################\n",
    "TEACHER_SIZE_RATIO = 5\n",
    "TEST_SIZE_RATIO = 5\n",
    "##########################################################################################################################\n",
    "##########################################################################################################################\n",
    "\n",
    "#上で定めた割合に基づき、教師データ数とテストデータ数を求める\n",
    "TEACHER_SIZE = ((int)(len(np_original_data) * ((TEACHER_SIZE_RATIO) / (TEACHER_SIZE_RATIO + TEST_SIZE_RATIO)))) + 1\n",
    "TEST_SIZE = len(np_original_data) - TEACHER_SIZE"
   ]
  },
  {
   "cell_type": "code",
   "execution_count": 64,
   "id": "920b24b7-fa37-475d-9181-887557d63423",
   "metadata": {},
   "outputs": [],
   "source": [
    "#次に教師データとテストデータに分割する\n",
    "teacher_data = np_original_data[:TEACHER_SIZE,:]\n",
    "test_data = np_original_data[TEACHER_SIZE:,:]"
   ]
  },
  {
   "cell_type": "code",
   "execution_count": 65,
   "id": "54f09a13-3d00-48d3-a6ed-2a79dcc5c9d2",
   "metadata": {},
   "outputs": [],
   "source": [
    "#元データの入力データと出力データの合計の属性数を求める\n",
    "NUMBER_OF_INPUT_OUTPUT= len(teacher_data[0,:])\n",
    "NUMBER_OF_INPUT = NUMBER_OF_INPUT_OUTPUT - 1"
   ]
  },
  {
   "cell_type": "code",
   "execution_count": 66,
   "id": "1121ebdf-49d3-4f78-ae87-078adcb96db9",
   "metadata": {},
   "outputs": [],
   "source": [
    "#説明変数と被説明変数とに分割する\n",
    "#被説明変数は最後の要素のみとする\n",
    "x_teacher_data = teacher_data[:,:NUMBER_OF_INPUT]\n",
    "y_teacher_data = teacher_data[:,NUMBER_OF_INPUT]\n",
    "x_test_data = test_data[:,:NUMBER_OF_INPUT]\n",
    "y_test_data = test_data[:,NUMBER_OF_INPUT]"
   ]
  },
  {
   "cell_type": "code",
   "execution_count": 67,
   "id": "ab3032a4-cab7-4e2e-93ec-9bbdbe65df11",
   "metadata": {},
   "outputs": [],
   "source": [
    "#次にファジィ分割数と入力データの属性数からファジィルールの総数を求める\n",
    "#各種データごとに確認・変更してほしい箇所\n",
    "##########################################################################################################################\n",
    "##########################################################################################################################\n",
    "NUMBER_OF_FUZZY_PARTITION = 3\n",
    "#SIRMsファジィ推論モデルはTSKファジィ推論を入力変数の数を行い出力結果を加重平均取る\n",
    "NUMBER_OF_INPUT_OF_FUZZY_RULE = 1\n",
    "NUMBER_OF_FUZZY_RULE = NUMBER_OF_FUZZY_PARTITION ** NUMBER_OF_INPUT_OF_FUZZY_RULE\n",
    "##########################################################################################################################\n",
    "##########################################################################################################################"
   ]
  },
  {
   "cell_type": "code",
   "execution_count": 68,
   "id": "a5ab0d02-d4a5-4e33-aa65-a4e7aac8fbb4",
   "metadata": {},
   "outputs": [],
   "source": [
    "#前件部の初期値と後件部の初期値を設定する\n",
    "#また、SIRMsとモジュラー限定だが各TSKファジィ推論器ごとの重みも設定する\n",
    "#前件部の中心と幅は、ルール数×各ルールにおける入力変数の数\n",
    "antecedent_center = np.empty((NUMBER_OF_INPUT, NUMBER_OF_FUZZY_RULE))\n",
    "antecedent_broad = np.empty((NUMBER_OF_INPUT, NUMBER_OF_FUZZY_RULE))\n",
    "consequent = np.empty((NUMBER_OF_INPUT, NUMBER_OF_FUZZY_RULE))\n",
    "weight_of_tsk_fuzzy = np.empty(NUMBER_OF_INPUT)\n",
    "\n",
    "#各種データごとに確認・変更してほしい箇所\n",
    "##########################################################################################################################\n",
    "##########################################################################################################################\n",
    "#後件部の値の初期設定を行う\n",
    "for i in range(NUMBER_OF_INPUT):\n",
    "    for j in range(NUMBER_OF_FUZZY_RULE):\n",
    "        consequent[i,j] = 0.5\n",
    "#各TSKファジィ推論器における重みを求める\n",
    "for i in range(NUMBER_OF_INPUT):\n",
    "    weight_of_tsk_fuzzy[i] = 0.2\n",
    "#前件部を初期設定する\n",
    "for i in range(NUMBER_OF_INPUT):\n",
    "    for j in range(NUMBER_OF_FUZZY_RULE):\n",
    "        if j == 0:\n",
    "            antecedent_center[i,j] = 0\n",
    "            antecedent_broad[i,j] = 1\n",
    "        elif j == 1:\n",
    "            antecedent_center[i,j] = 0.5\n",
    "            antecedent_broad[i,j] = 0.5\n",
    "        else:\n",
    "            antecedent_center[i,j] = 1\n",
    "            antecedent_broad[i,j] = 1\n",
    "##########################################################################################################################\n",
    "##########################################################################################################################"
   ]
  },
  {
   "cell_type": "code",
   "execution_count": null,
   "id": "6cc0644d-a81a-4eae-89c5-cbb3803b756b",
   "metadata": {
    "tags": []
   },
   "outputs": [],
   "source": [
    "%%time\n",
    "\n",
    "#学習を行う\n",
    "#前件部の学習はここでは考えないことにする\n",
    "#学習回数を設定する\n",
    "TRAIN_TIME = 1000\n",
    "\n",
    "mean_squared_error = 0\n",
    "\n",
    "#学習係数を設定する\n",
    "LEARNING_CONSEQUENT = 0.001\n",
    "LEARNING_WEIGHT = 0.001\n",
    "\n",
    "#各学習に関して\n",
    "for time in range(TRAIN_TIME):\n",
    "    #SIRMsファジィ推論の出力値を設定しておく\n",
    "    output = np.empty(TEACHER_SIZE)\n",
    "    #各教師データに対して\n",
    "    for i in range(TEACHER_SIZE):\n",
    "        #SIRMs内の各TSKファジィ推論の推論結果を格納する変数を設定しておく\n",
    "        tsk_output = np.empty(NUMBER_OF_INPUT)\n",
    "        #各TSKファジィ推論内の各ルールに対する適合度を求める\n",
    "        adaptability = np.empty((NUMBER_OF_INPUT, NUMBER_OF_FUZZY_RULE))\n",
    "        #SIRMs内の各TSKファジィ推論に対して\n",
    "        #ただし、TSKファジィ推論器の数は各教師データの入力属性数に等しい\n",
    "        for j in range(NUMBER_OF_INPUT):\n",
    "            #各ファジィルールに対して\n",
    "            for k in range(NUMBER_OF_FUZZY_RULE):\n",
    "                if(x_teacher_data[i,j] >= antecedent_center[j,k] - antecedent_broad[j,k]) and (x_teacher_data[i,j] <= antecedent_center[j,k]):\n",
    "                    adaptability[j,k] = (x_teacher_data[i,j] - (antecedent_center[j,k] - antecedent_broad[j,k])) / antecedent_broad[j,k]\n",
    "                elif(x_teacher_data[i,j] > antecedent_center[j,k]) and (x_teacher_data[i,j] <= antecedent_center[j,k] + antecedent_broad[j,k]):\n",
    "                    adaptability[j,k] = -(x_teacher_data[i,j] - (antecedent_center[j,k] + antecedent_broad[j,k])) / antecedent_broad[j,k]\n",
    "            #各TSKファジィ推論器ごとの出力値を求める\n",
    "            tsk_output[j] = np.sum(np.dot(adaptability[j], consequent[j])) / np.sum(adaptability[j])\n",
    "        #SIRMsファジィ推論における出力値を求める\n",
    "        output[i] = np.sum(np.dot(weight_of_tsk_fuzzy, tsk_output))\n",
    "        if time == TRAIN_TIME - 1:\n",
    "            print(output[i], y_teacher_data[i])\n",
    "            mean_squared_error = mean_squared_error + (output[i] - y_teacher_data[i])**2\n",
    "            if i == TEACHER_SIZE-1:\n",
    "                mean_squared_error = mean_squared_error / TEACHER_SIZE\n",
    "                print(\"平均二条誤差\")\n",
    "                print(mean_squared_error)\n",
    "        #各種パラメータの更新を行う\n",
    "        #ここでは後件部の値と各TSKファジィ推論の重みを更新する\n",
    "        #まず後件部の値の更新を行う\n",
    "        for j in range(NUMBER_OF_INPUT):\n",
    "            for k in range(NUMBER_OF_FUZZY_RULE):\n",
    "                consequent[j,k] = consequent[j,k] + (LEARNING_CONSEQUENT * (y_teacher_data[i] - output[i]) * weight_of_tsk_fuzzy[j] * (adaptability[j,k] / np.sum(adaptability[j])))\n",
    "        #次に結合重みを更新する\n",
    "        for j in range(NUMBER_OF_INPUT):\n",
    "            weight_of_tsk_fuzzy[j] = weight_of_tsk_fuzzy[j] + (LEARNING_WEIGHT * (y_teacher_data[i] - output[i]) * tsk_output[j])"
   ]
  },
  {
   "cell_type": "code",
   "execution_count": null,
   "id": "3e838d64-33cb-461f-a4a6-51a880751f34",
   "metadata": {},
   "outputs": [],
   "source": [
    "#テストデータを用いて予測結果を求める\n",
    "#SIRMsファジィ推論モデルの出力値を設定しておく\n",
    "test_output = np.empty(TEST_SIZE)\n",
    "\n",
    "test_mean_squared_error = 0\n",
    "\n",
    "#各テストデータに対して\n",
    "for i in range(TEST_SIZE):\n",
    "    #SIRMs内の各TSKファジィ推論の推論結果を格納する変数を設定しておく\n",
    "    test_tsk_output = np.empty(NUMBER_OF_INPUT)\n",
    "    #各TSKファジィ推論内の各ルールに対する適合度を求める\n",
    "    test_adaptability = np.empty((NUMBER_OF_INPUT, NUMBER_OF_FUZZY_RULE))\n",
    "    #SIRMs内の各TSKファジィ推論器に対して\n",
    "    for j in range(NUMBER_OF_INPUT):\n",
    "        for k in range(NUMBER_OF_FUZZY_RULE):\n",
    "            if(x_test_data[i,j] >= antecedent_center[j,k] - antecedent_broad[j,k]) and (x_test_data[i,j] <= antecedent_center[j,k]):\n",
    "                test_adaptability[j,k] = (x_test_data[i,j] - (antecedent_center[j,k] - antecedent_broad[j,k])) / antecedent_broad[j,k]\n",
    "            elif(x_test_data[i,j] > antecedent_center[j,k]) and (x_test_data[i,j] <= antecedent_center[j,k] + antecedent_broad[j,k]):\n",
    "                test_adaptability[j,k] = -(x_test_data[i,j] - (antecedent_center[j,k] + antecedent_broad[j,k])) / antecedent_broad[j,k]\n",
    "        #各TSKファジィ推論器ごとの出力値を求める\n",
    "        test_tsk_output[j] = np.sum(np.dot(test_adaptability[j], consequent[j])) / np.sum(adaptability[j])\n",
    "    #SIRMsファジィ推論における出力値を求める\n",
    "    test_output[i] = np.sum(np.dot(weight_of_tsk_fuzzy, test_tsk_output))\n",
    "    print(output[i], y_test_data[i])\n",
    "    test_mean_squared_error = test_mean_squared_error + (output[i] - y_test_data[i])**2\n",
    "    if i == TEST_SIZE-1:\n",
    "        test_mean_squared_error = test_mean_squared_error / TEST_SIZE\n",
    "        print(\"平均二条誤差\")\n",
    "        print(test_mean_squared_error)"
   ]
  }
 ],
 "metadata": {
  "kernelspec": {
   "display_name": "Python 3 (ipykernel)",
   "language": "python",
   "name": "python3"
  },
  "language_info": {
   "codemirror_mode": {
    "name": "ipython",
    "version": 3
   },
   "file_extension": ".py",
   "mimetype": "text/x-python",
   "name": "python",
   "nbconvert_exporter": "python",
   "pygments_lexer": "ipython3",
   "version": "3.9.13"
  }
 },
 "nbformat": 4,
 "nbformat_minor": 5
}
